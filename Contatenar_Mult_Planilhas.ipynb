{
  "nbformat": 4,
  "nbformat_minor": 0,
  "metadata": {
    "colab": {
      "name": "Contatenar Mult Planilhas",
      "provenance": [],
      "collapsed_sections": []
    },
    "kernelspec": {
      "name": "python3",
      "display_name": "Python 3"
    },
    "language_info": {
      "name": "python"
    }
  },
  "cells": [
    {
      "cell_type": "markdown",
      "metadata": {
        "id": "x6BLboqLaH-i"
      },
      "source": [
        "#**MONTANDO O DRIVE**"
      ]
    },
    {
      "cell_type": "markdown",
      "metadata": {
        "id": "EeG4rpmmTggX"
      },
      "source": [
        "Vamos importar as bibliotecas que vamos utilizar para essa prática\n"
      ]
    },
    {
      "cell_type": "code",
      "metadata": {
        "id": "_V7TAgkbTMgE"
      },
      "source": [
        "import pandas as pd\n",
        "import os # bibliotecas para funções do sistema operacional"
      ],
      "execution_count": 1,
      "outputs": []
    },
    {
      "cell_type": "code",
      "metadata": {
        "id": "euTV-JWoaSHh"
      },
      "source": [
        "# abrindo pasta no Google Drive\n",
        "\n",
        "caminho= \"//content//drive//MyDrive//Planilha Kaggle-Juncao_de_Planilhas//\""
      ],
      "execution_count": 3,
      "outputs": []
    },
    {
      "cell_type": "markdown",
      "metadata": {
        "id": "gN7Qb5zcUrlZ"
      },
      "source": [
        "#**Criando uma lista com todos os arquivos do diretório**\n",
        "\n",
        "\n",
        "Agora vamos criar uma lista com todos os arquivos que estão armazenados no diretório.\n",
        "\n",
        "o metódo listdir retorna uma lista contendo os nomes das entradas no diretório fornecido por path."
      ]
    },
    {
      "cell_type": "code",
      "metadata": {
        "id": "mWU4FRCqUtjP"
      },
      "source": [
        "lista_df = [] # cria uma lista\n",
        "lista_path = os.listdir(caminho) #entra no diretorio e pega todos os arquivos"
      ],
      "execution_count": 9,
      "outputs": []
    },
    {
      "cell_type": "code",
      "metadata": {
        "id": "-i0uksu_Uve3",
        "colab": {
          "base_uri": "https://localhost:8080/"
        },
        "outputId": "f4d05e0b-1066-446b-c095-1e1d15bdd54b"
      },
      "source": [
        "#lista os 3 primeiros arquivos\n",
        "lista_path[:3]"
      ],
      "execution_count": 10,
      "outputs": [
        {
          "output_type": "execute_result",
          "data": {
            "text/plain": [
              "['Placement_Data_Full_Class 1 .csv', 'Placement_Data_Full_Class 2 .csv']"
            ]
          },
          "metadata": {},
          "execution_count": 10
        }
      ]
    },
    {
      "cell_type": "markdown",
      "metadata": {
        "id": "neHiUyBF4VAh"
      },
      "source": [
        "#**Lendo arquivos em Excel**"
      ]
    },
    {
      "cell_type": "markdown",
      "metadata": {
        "id": "E78wHuTkU5zg"
      },
      "source": [
        "**Lendo e adicionando cada informação dos arquivos em um único dataframe**\n",
        "\n",
        "\n",
        "\n",
        "Ótmo! Agora temos todos os nomes dos aquivos que estão dentro do diretório. Agora vamos abrir cada arquivo e coletar os seus dados."
      ]
    },
    {
      "cell_type": "code",
      "metadata": {
        "id": "VdJpXd_zU9jP"
      },
      "source": [
        "lista_df = [] # cria uma lista vazia\n",
        "for arquivo in lista_path:\n",
        "    local_arquivo = os.path.join(caminho, arquivo)    \n",
        "    df = pd.read_excel(local_arquivo)\n",
        "    lista_df.append(df)    \n",
        "df = pd.concat(lista_df) # Atribui os dados coletados de cada lista em um dataframe"
      ],
      "execution_count": null,
      "outputs": []
    },
    {
      "cell_type": "code",
      "metadata": {
        "id": "TTt_uSTPVAmH"
      },
      "source": [
        "df[:5]  #visualizando os 15 primeiros registros do meu novo datafreme"
      ],
      "execution_count": null,
      "outputs": []
    },
    {
      "cell_type": "code",
      "metadata": {
        "id": "MJi4a0JPVC7X"
      },
      "source": [
        "# Visualizando as estatistica do dataframe\n",
        "df.shape "
      ],
      "execution_count": null,
      "outputs": []
    },
    {
      "cell_type": "markdown",
      "metadata": {
        "id": "uuAqrEx-VDRg"
      },
      "source": [
        "**Exportando dados para arquivos**"
      ]
    },
    {
      "cell_type": "markdown",
      "metadata": {
        "id": "woYpmpcEVFqs"
      },
      "source": [
        "Agora que ja temos todos os arquivos do diretório, vamos exporta-los apenas para um arquivo único."
      ]
    },
    {
      "cell_type": "code",
      "metadata": {
        "id": "z3jeVjE6VH4G"
      },
      "source": [
        "df.to_excel(caminho + 'Novo_arquivo.xlsx')"
      ],
      "execution_count": null,
      "outputs": []
    },
    {
      "cell_type": "markdown",
      "metadata": {
        "id": "PR4p2YnO4QHS"
      },
      "source": [
        "#**Lendo arquivos em CSV**\n",
        "\n"
      ]
    },
    {
      "cell_type": "markdown",
      "metadata": {
        "id": "P75erQ8M4v78"
      },
      "source": [
        "Lendo e adicionando cada informação dos arquivos em um único dataframe\n",
        "\n",
        "Ótmo! Agora temos todos os nomes dos aquivos que estão dentro do diretório. Agora vamos abrir cada arquivo e coletar os seus dados."
      ]
    },
    {
      "cell_type": "code",
      "metadata": {
        "id": "5rtv6zpz4sNk"
      },
      "source": [
        "lista_df = [] # cria uma lista vazia\n",
        "for arquivo in lista_path:\n",
        "    local_arquivo = os.path.join(caminho, arquivo)\n",
        "    df = pd.read_csv(local_arquivo, sep = ',', encoding='latin-1')\n",
        "    lista_df.append(df)\n",
        "df = pd.concat(lista_df) # Atribui os dados coletados de cada lista em um dataframe"
      ],
      "execution_count": 11,
      "outputs": []
    },
    {
      "cell_type": "code",
      "metadata": {
        "id": "kS0_0ZLh5Fmr",
        "colab": {
          "base_uri": "https://localhost:8080/",
          "height": 205
        },
        "outputId": "889372c8-a3c7-4e45-a225-a20c47599fef"
      },
      "source": [
        "df[:5]  #visualizando os 5 primeiros registros do meu novo datafreme"
      ],
      "execution_count": 12,
      "outputs": [
        {
          "output_type": "execute_result",
          "data": {
            "text/html": [
              "<div>\n",
              "<style scoped>\n",
              "    .dataframe tbody tr th:only-of-type {\n",
              "        vertical-align: middle;\n",
              "    }\n",
              "\n",
              "    .dataframe tbody tr th {\n",
              "        vertical-align: top;\n",
              "    }\n",
              "\n",
              "    .dataframe thead th {\n",
              "        text-align: right;\n",
              "    }\n",
              "</style>\n",
              "<table border=\"1\" class=\"dataframe\">\n",
              "  <thead>\n",
              "    <tr style=\"text-align: right;\">\n",
              "      <th></th>\n",
              "      <th>sl_no</th>\n",
              "      <th>gender</th>\n",
              "      <th>ssc_p</th>\n",
              "      <th>ssc_b</th>\n",
              "      <th>hsc_p</th>\n",
              "      <th>hsc_b</th>\n",
              "      <th>hsc_s</th>\n",
              "      <th>degree_p</th>\n",
              "      <th>degree_t</th>\n",
              "      <th>workex</th>\n",
              "      <th>etest_p</th>\n",
              "      <th>specialisation</th>\n",
              "      <th>mba_p</th>\n",
              "      <th>status</th>\n",
              "      <th>salary</th>\n",
              "    </tr>\n",
              "  </thead>\n",
              "  <tbody>\n",
              "    <tr>\n",
              "      <th>0</th>\n",
              "      <td>1</td>\n",
              "      <td>M</td>\n",
              "      <td>67.00</td>\n",
              "      <td>Others</td>\n",
              "      <td>91.00</td>\n",
              "      <td>Others</td>\n",
              "      <td>Commerce</td>\n",
              "      <td>58.00</td>\n",
              "      <td>Sci&amp;Tech</td>\n",
              "      <td>No</td>\n",
              "      <td>55.0</td>\n",
              "      <td>Mkt&amp;HR</td>\n",
              "      <td>58.80</td>\n",
              "      <td>Placed</td>\n",
              "      <td>270000.0</td>\n",
              "    </tr>\n",
              "    <tr>\n",
              "      <th>1</th>\n",
              "      <td>2</td>\n",
              "      <td>M</td>\n",
              "      <td>79.33</td>\n",
              "      <td>Central</td>\n",
              "      <td>78.33</td>\n",
              "      <td>Others</td>\n",
              "      <td>Science</td>\n",
              "      <td>77.48</td>\n",
              "      <td>Sci&amp;Tech</td>\n",
              "      <td>Yes</td>\n",
              "      <td>86.5</td>\n",
              "      <td>Mkt&amp;Fin</td>\n",
              "      <td>66.28</td>\n",
              "      <td>Placed</td>\n",
              "      <td>200000.0</td>\n",
              "    </tr>\n",
              "    <tr>\n",
              "      <th>2</th>\n",
              "      <td>3</td>\n",
              "      <td>M</td>\n",
              "      <td>65.00</td>\n",
              "      <td>Central</td>\n",
              "      <td>68.00</td>\n",
              "      <td>Central</td>\n",
              "      <td>Arts</td>\n",
              "      <td>64.00</td>\n",
              "      <td>Comm&amp;Mgmt</td>\n",
              "      <td>No</td>\n",
              "      <td>75.0</td>\n",
              "      <td>Mkt&amp;Fin</td>\n",
              "      <td>57.80</td>\n",
              "      <td>Placed</td>\n",
              "      <td>250000.0</td>\n",
              "    </tr>\n",
              "    <tr>\n",
              "      <th>3</th>\n",
              "      <td>4</td>\n",
              "      <td>M</td>\n",
              "      <td>56.00</td>\n",
              "      <td>Central</td>\n",
              "      <td>52.00</td>\n",
              "      <td>Central</td>\n",
              "      <td>Science</td>\n",
              "      <td>52.00</td>\n",
              "      <td>Sci&amp;Tech</td>\n",
              "      <td>No</td>\n",
              "      <td>66.0</td>\n",
              "      <td>Mkt&amp;HR</td>\n",
              "      <td>59.43</td>\n",
              "      <td>Not Placed</td>\n",
              "      <td>NaN</td>\n",
              "    </tr>\n",
              "    <tr>\n",
              "      <th>4</th>\n",
              "      <td>5</td>\n",
              "      <td>M</td>\n",
              "      <td>85.80</td>\n",
              "      <td>Central</td>\n",
              "      <td>73.60</td>\n",
              "      <td>Central</td>\n",
              "      <td>Commerce</td>\n",
              "      <td>73.30</td>\n",
              "      <td>Comm&amp;Mgmt</td>\n",
              "      <td>No</td>\n",
              "      <td>96.8</td>\n",
              "      <td>Mkt&amp;Fin</td>\n",
              "      <td>55.50</td>\n",
              "      <td>Placed</td>\n",
              "      <td>425000.0</td>\n",
              "    </tr>\n",
              "  </tbody>\n",
              "</table>\n",
              "</div>"
            ],
            "text/plain": [
              "   sl_no gender  ssc_p    ssc_b  ...  specialisation  mba_p      status    salary\n",
              "0      1      M  67.00   Others  ...          Mkt&HR  58.80      Placed  270000.0\n",
              "1      2      M  79.33  Central  ...         Mkt&Fin  66.28      Placed  200000.0\n",
              "2      3      M  65.00  Central  ...         Mkt&Fin  57.80      Placed  250000.0\n",
              "3      4      M  56.00  Central  ...          Mkt&HR  59.43  Not Placed       NaN\n",
              "4      5      M  85.80  Central  ...         Mkt&Fin  55.50      Placed  425000.0\n",
              "\n",
              "[5 rows x 15 columns]"
            ]
          },
          "metadata": {},
          "execution_count": 12
        }
      ]
    },
    {
      "cell_type": "code",
      "metadata": {
        "id": "Bk23ywpF5IB0",
        "colab": {
          "base_uri": "https://localhost:8080/"
        },
        "outputId": "d2b6cdef-4e98-4354-afdf-192c43e0bce3"
      },
      "source": [
        "# Visualizando as estatistica do dataframe, temos 215 linhas e 15 colunas\n",
        "df.shape"
      ],
      "execution_count": 13,
      "outputs": [
        {
          "output_type": "execute_result",
          "data": {
            "text/plain": [
              "(215, 15)"
            ]
          },
          "metadata": {},
          "execution_count": 13
        }
      ]
    },
    {
      "cell_type": "markdown",
      "metadata": {
        "id": "gYt-C_YBFIT1"
      },
      "source": [
        "**Exportando dados para arquivos**"
      ]
    },
    {
      "cell_type": "markdown",
      "metadata": {
        "id": "kg6JDWikFLvy"
      },
      "source": [
        "Agora que ja temos todos os arquivos do diretório, vamos exporta-los apenas para um arquivo único."
      ]
    },
    {
      "cell_type": "code",
      "metadata": {
        "id": "K2qdoxfvFH-f"
      },
      "source": [
        "df.to_csv(caminho + 'Novo_arquivo.csv')"
      ],
      "execution_count": 14,
      "outputs": []
    }
  ]
}